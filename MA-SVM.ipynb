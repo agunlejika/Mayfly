{
 "cells": [
  {
   "cell_type": "code",
   "execution_count": null,
   "id": "b07d4132",
   "metadata": {},
   "outputs": [],
   "source": [
    "import pandas as pd    \n",
    "from sklearn.model_selection import train_test_split\n",
    "from sklearn.metrics import accuracy_score"
   ]
  },
  {
   "cell_type": "code",
   "execution_count": null,
   "id": "ac758722",
   "metadata": {},
   "outputs": [],
   "source": [
    "dataset = pd.read_csv('oasis_longitudinal.csv')"
   ]
  },
  {
   "cell_type": "code",
   "execution_count": null,
   "id": "f6abf3e4",
   "metadata": {},
   "outputs": [],
   "source": [
    "dataset.head(5)"
   ]
  },
  {
   "cell_type": "code",
   "execution_count": null,
   "id": "a262d73d",
   "metadata": {},
   "outputs": [],
   "source": []
  },
  {
   "cell_type": "code",
   "execution_count": 4,
   "id": "d49904a2",
   "metadata": {},
   "outputs": [
    {
     "name": "stdout",
     "output_type": "stream",
     "text": [
      "<class 'pandas.core.frame.DataFrame'>\n",
      "RangeIndex: 373 entries, 0 to 372\n",
      "Data columns (total 15 columns):\n",
      " #   Column      Non-Null Count  Dtype  \n",
      "---  ------      --------------  -----  \n",
      " 0   Subject ID  373 non-null    object \n",
      " 1   MRI ID      373 non-null    object \n",
      " 2   Group       373 non-null    int64  \n",
      " 3   Visit       373 non-null    int64  \n",
      " 4   MR Delay    373 non-null    int64  \n",
      " 5   M/F         373 non-null    int64  \n",
      " 6   Hand        373 non-null    object \n",
      " 7   Age         373 non-null    int64  \n",
      " 8   EDUC        373 non-null    int64  \n",
      " 9   SES         354 non-null    float64\n",
      " 10  MMSE        371 non-null    float64\n",
      " 11  CDR         373 non-null    float64\n",
      " 12  eTIV        373 non-null    int64  \n",
      " 13  nWBV        373 non-null    float64\n",
      " 14  ASF         373 non-null    float64\n",
      "dtypes: float64(5), int64(7), object(3)\n",
      "memory usage: 43.8+ KB\n"
     ]
    }
   ],
   "source": [
    "dataset['M/F'] = [1 if each == \"M\" else 0 for each in dataset['M/F']]\n",
    "dataset['Group'] = [1 if each == \"Demented\" or each == \"Converted\" else 0 for each in dataset['Group']]\n",
    "dataset.info()"
   ]
  },
  {
   "cell_type": "code",
   "execution_count": 5,
   "id": "a8988cec",
   "metadata": {},
   "outputs": [
    {
     "name": "stdout",
     "output_type": "stream",
     "text": [
      "Correlation Matrix:\n",
      "             Group     Visit  MR Delay       M/F       Age      EDUC  \\\n",
      "Group     1.000000 -0.095507 -0.120638  0.222146 -0.005941 -0.193060   \n",
      "Visit    -0.095507  1.000000  0.920009  0.069791  0.183213  0.024615   \n",
      "MR Delay -0.120638  0.920009  1.000000  0.048006  0.205357  0.051630   \n",
      "M/F       0.222146  0.069791  0.048006  1.000000 -0.037726  0.089279   \n",
      "Age      -0.005941  0.183213  0.205357 -0.037726  1.000000 -0.027886   \n",
      "EDUC     -0.193060  0.024615  0.051630  0.089279 -0.027886  1.000000   \n",
      "SES       0.062463 -0.051622 -0.030813 -0.045776 -0.046857 -0.722647   \n",
      "MMSE     -0.524775 -0.029078  0.065844 -0.166860  0.055612  0.194884   \n",
      "CDR       0.778049  0.002325 -0.062915  0.202140 -0.026257 -0.153121   \n",
      "eTIV     -0.042700  0.117428  0.119624  0.572549  0.042348  0.257015   \n",
      "nWBV     -0.311346 -0.126682 -0.105586 -0.249618 -0.518359 -0.012200   \n",
      "ASF       0.032495 -0.120399 -0.123545 -0.561647 -0.035067 -0.241752   \n",
      "\n",
      "               SES      MMSE       CDR      eTIV      nWBV       ASF  \n",
      "Group     0.062463 -0.524775  0.778049 -0.042700 -0.311346  0.032495  \n",
      "Visit    -0.051622 -0.029078  0.002325  0.117428 -0.126682 -0.120399  \n",
      "MR Delay -0.030813  0.065844 -0.062915  0.119624 -0.105586 -0.123545  \n",
      "M/F      -0.045776 -0.166860  0.202140  0.572549 -0.249618 -0.561647  \n",
      "Age      -0.046857  0.055612 -0.026257  0.042348 -0.518359 -0.035067  \n",
      "EDUC     -0.722647  0.194884 -0.153121  0.257015 -0.012200 -0.241752  \n",
      "SES       1.000000 -0.149219  0.076160 -0.261575  0.090095  0.255576  \n",
      "MMSE     -0.149219  1.000000 -0.686519 -0.032084  0.341912  0.040052  \n",
      "CDR       0.076160 -0.686519  1.000000  0.022819 -0.344819 -0.029340  \n",
      "eTIV     -0.261575 -0.032084  0.022819  1.000000 -0.210122 -0.988877  \n",
      "nWBV      0.090095  0.341912 -0.344819 -0.210122  1.000000  0.213476  \n",
      "ASF       0.255576  0.040052 -0.029340 -0.988877  0.213476  1.000000  \n"
     ]
    }
   ],
   "source": [
    "correlation_matrix = dataset.corr()\n",
    "\n",
    "print(\"Correlation Matrix:\")\n",
    "print(correlation_matrix)\n"
   ]
  },
  {
   "cell_type": "code",
   "execution_count": 6,
   "id": "99790a62",
   "metadata": {},
   "outputs": [
    {
     "data": {
      "text/plain": [
       "Subject ID     0\n",
       "MRI ID         0\n",
       "Group          0\n",
       "Visit          0\n",
       "MR Delay       0\n",
       "M/F            0\n",
       "Hand           0\n",
       "Age            0\n",
       "EDUC           0\n",
       "SES           19\n",
       "MMSE           2\n",
       "CDR            0\n",
       "eTIV           0\n",
       "nWBV           0\n",
       "ASF            0\n",
       "dtype: int64"
      ]
     },
     "execution_count": 6,
     "metadata": {},
     "output_type": "execute_result"
    }
   ],
   "source": [
    "dataset.isnull().sum()"
   ]
  },
  {
   "cell_type": "code",
   "execution_count": 7,
   "id": "d1eead85",
   "metadata": {},
   "outputs": [
    {
     "data": {
      "text/plain": [
       "Subject ID     0\n",
       "MRI ID         0\n",
       "Group          0\n",
       "Visit          0\n",
       "MR Delay       0\n",
       "M/F            0\n",
       "Hand           0\n",
       "Age            0\n",
       "EDUC           0\n",
       "SES           19\n",
       "MMSE           0\n",
       "CDR            0\n",
       "eTIV           0\n",
       "nWBV           0\n",
       "ASF            0\n",
       "dtype: int64"
      ]
     },
     "execution_count": 7,
     "metadata": {},
     "output_type": "execute_result"
    }
   ],
   "source": [
    "median = dataset['MMSE'].median()\n",
    "dataset['MMSE'].fillna(median, inplace=True)\n",
    "dataset.isnull().sum()"
   ]
  },
  {
   "cell_type": "code",
   "execution_count": 8,
   "id": "0af36ebc",
   "metadata": {},
   "outputs": [
    {
     "data": {
      "text/plain": [
       "Subject ID    0\n",
       "MRI ID        0\n",
       "Group         0\n",
       "Visit         0\n",
       "MR Delay      0\n",
       "M/F           0\n",
       "Hand          0\n",
       "Age           0\n",
       "EDUC          0\n",
       "SES           0\n",
       "MMSE          0\n",
       "CDR           0\n",
       "eTIV          0\n",
       "nWBV          0\n",
       "ASF           0\n",
       "dtype: int64"
      ]
     },
     "execution_count": 8,
     "metadata": {},
     "output_type": "execute_result"
    }
   ],
   "source": [
    "median = dataset['SES'].median()\n",
    "dataset['SES'].fillna(median, inplace=True)\n",
    "dataset.isnull().sum()"
   ]
  },
  {
   "cell_type": "code",
   "execution_count": 9,
   "id": "15a777f6",
   "metadata": {},
   "outputs": [
    {
     "data": {
      "text/html": [
       "<div>\n",
       "<style scoped>\n",
       "    .dataframe tbody tr th:only-of-type {\n",
       "        vertical-align: middle;\n",
       "    }\n",
       "\n",
       "    .dataframe tbody tr th {\n",
       "        vertical-align: top;\n",
       "    }\n",
       "\n",
       "    .dataframe thead th {\n",
       "        text-align: right;\n",
       "    }\n",
       "</style>\n",
       "<table border=\"1\" class=\"dataframe\">\n",
       "  <thead>\n",
       "    <tr style=\"text-align: right;\">\n",
       "      <th></th>\n",
       "      <th>Subject ID</th>\n",
       "      <th>MRI ID</th>\n",
       "      <th>Group</th>\n",
       "      <th>Visit</th>\n",
       "      <th>MR Delay</th>\n",
       "      <th>M/F</th>\n",
       "      <th>Hand</th>\n",
       "      <th>Age</th>\n",
       "      <th>EDUC</th>\n",
       "      <th>SES</th>\n",
       "      <th>MMSE</th>\n",
       "      <th>CDR</th>\n",
       "      <th>eTIV</th>\n",
       "      <th>nWBV</th>\n",
       "      <th>ASF</th>\n",
       "    </tr>\n",
       "  </thead>\n",
       "  <tbody>\n",
       "    <tr>\n",
       "      <th>0</th>\n",
       "      <td>OAS2_0001</td>\n",
       "      <td>OAS2_0001_MR1</td>\n",
       "      <td>0</td>\n",
       "      <td>1</td>\n",
       "      <td>0</td>\n",
       "      <td>1</td>\n",
       "      <td>R</td>\n",
       "      <td>87</td>\n",
       "      <td>14</td>\n",
       "      <td>2.0</td>\n",
       "      <td>27.0</td>\n",
       "      <td>0.0</td>\n",
       "      <td>1987</td>\n",
       "      <td>0.696</td>\n",
       "      <td>0.883</td>\n",
       "    </tr>\n",
       "    <tr>\n",
       "      <th>1</th>\n",
       "      <td>OAS2_0001</td>\n",
       "      <td>OAS2_0001_MR2</td>\n",
       "      <td>0</td>\n",
       "      <td>2</td>\n",
       "      <td>457</td>\n",
       "      <td>1</td>\n",
       "      <td>R</td>\n",
       "      <td>88</td>\n",
       "      <td>14</td>\n",
       "      <td>2.0</td>\n",
       "      <td>30.0</td>\n",
       "      <td>0.0</td>\n",
       "      <td>2004</td>\n",
       "      <td>0.681</td>\n",
       "      <td>0.876</td>\n",
       "    </tr>\n",
       "    <tr>\n",
       "      <th>2</th>\n",
       "      <td>OAS2_0002</td>\n",
       "      <td>OAS2_0002_MR1</td>\n",
       "      <td>1</td>\n",
       "      <td>1</td>\n",
       "      <td>0</td>\n",
       "      <td>1</td>\n",
       "      <td>R</td>\n",
       "      <td>75</td>\n",
       "      <td>12</td>\n",
       "      <td>2.0</td>\n",
       "      <td>23.0</td>\n",
       "      <td>0.5</td>\n",
       "      <td>1678</td>\n",
       "      <td>0.736</td>\n",
       "      <td>1.046</td>\n",
       "    </tr>\n",
       "    <tr>\n",
       "      <th>3</th>\n",
       "      <td>OAS2_0002</td>\n",
       "      <td>OAS2_0002_MR2</td>\n",
       "      <td>1</td>\n",
       "      <td>2</td>\n",
       "      <td>560</td>\n",
       "      <td>1</td>\n",
       "      <td>R</td>\n",
       "      <td>76</td>\n",
       "      <td>12</td>\n",
       "      <td>2.0</td>\n",
       "      <td>28.0</td>\n",
       "      <td>0.5</td>\n",
       "      <td>1738</td>\n",
       "      <td>0.713</td>\n",
       "      <td>1.010</td>\n",
       "    </tr>\n",
       "    <tr>\n",
       "      <th>4</th>\n",
       "      <td>OAS2_0002</td>\n",
       "      <td>OAS2_0002_MR3</td>\n",
       "      <td>1</td>\n",
       "      <td>3</td>\n",
       "      <td>1895</td>\n",
       "      <td>1</td>\n",
       "      <td>R</td>\n",
       "      <td>80</td>\n",
       "      <td>12</td>\n",
       "      <td>2.0</td>\n",
       "      <td>22.0</td>\n",
       "      <td>0.5</td>\n",
       "      <td>1698</td>\n",
       "      <td>0.701</td>\n",
       "      <td>1.034</td>\n",
       "    </tr>\n",
       "  </tbody>\n",
       "</table>\n",
       "</div>"
      ],
      "text/plain": [
       "  Subject ID         MRI ID  Group  Visit  MR Delay  M/F Hand  Age  EDUC  SES  \\\n",
       "0  OAS2_0001  OAS2_0001_MR1      0      1         0    1    R   87    14  2.0   \n",
       "1  OAS2_0001  OAS2_0001_MR2      0      2       457    1    R   88    14  2.0   \n",
       "2  OAS2_0002  OAS2_0002_MR1      1      1         0    1    R   75    12  2.0   \n",
       "3  OAS2_0002  OAS2_0002_MR2      1      2       560    1    R   76    12  2.0   \n",
       "4  OAS2_0002  OAS2_0002_MR3      1      3      1895    1    R   80    12  2.0   \n",
       "\n",
       "   MMSE  CDR  eTIV   nWBV    ASF  \n",
       "0  27.0  0.0  1987  0.696  0.883  \n",
       "1  30.0  0.0  2004  0.681  0.876  \n",
       "2  23.0  0.5  1678  0.736  1.046  \n",
       "3  28.0  0.5  1738  0.713  1.010  \n",
       "4  22.0  0.5  1698  0.701  1.034  "
      ]
     },
     "execution_count": 9,
     "metadata": {},
     "output_type": "execute_result"
    }
   ],
   "source": [
    "dataset.head(5)"
   ]
  },
  {
   "cell_type": "code",
   "execution_count": 10,
   "id": "9c743f24",
   "metadata": {},
   "outputs": [],
   "source": [
    "# Assume your dataset has features 'X' and target 'y'\n",
    "\n",
    "X = dataset[[ 'M/F', 'Age', 'EDUC', 'SES', 'MMSE', 'eTIV', 'nWBV', 'ASF']] \n",
    "y = dataset['Group']  # Replace with your actual target column name"
   ]
  },
  {
   "cell_type": "code",
   "execution_count": 11,
   "id": "8aabde16",
   "metadata": {},
   "outputs": [],
   "source": [
    "import numpy as np\n",
    "from numpy.random import default_rng\n",
    "from sklearn.model_selection import train_test_split\n",
    "from tqdm import tqdm\n",
    "from sklearn.svm import LinearSVC\n",
    "\n",
    "class MayflyAlgorithm:\n",
    "    def __init__(self, pop_size=20, alpha=1.0, beta=1.0, gamma=0.01, seed=None):\n",
    "        self.pop_size = pop_size\n",
    "        self.alpha = alpha\n",
    "        self.beta = beta\n",
    "        self.gamma = gamma\n",
    "        self.rng = default_rng(seed)\n",
    "\n",
    "    def run(self, function, dim, lb, ub, max_evals):\n",
    "        mayflies = self.rng.uniform(lb, ub, (self.pop_size, dim))\n",
    "        intensity = np.apply_along_axis(function, 1, mayflies)\n",
    "        best = np.min(intensity)\n",
    "        best_mayfly = mayflies[0]\n",
    "\n",
    "        evaluations = self.pop_size\n",
    "        new_alpha = self.alpha\n",
    "        search_range = ub - lb\n",
    "\n",
    "        while evaluations <= max_evals:\n",
    "            new_alpha *= 0.97\n",
    "            for i in range(self.pop_size):\n",
    "                for j in range(self.pop_size):\n",
    "                    r = np.sum(np.square(mayflies[i] - mayflies[j]), axis=-1)\n",
    "                    beta = self.beta * np.exp(-self.gamma * r)\n",
    "                    steps = new_alpha * (self.rng.random(dim) - 0.5) * search_range\n",
    "                    mayflies[i] += beta * (self.rng.random(dim) - 0.5) * search_range + steps\n",
    "                    mayflies[i] = np.clip(mayflies[i], lb, ub)\n",
    "                    intensity[i] = function(mayflies[i])\n",
    "                    evaluations += 1\n",
    "                    best = min(intensity[i], best)\n",
    "                    if best == intensity[i]:\n",
    "                        best_mayfly = mayflies[i].copy()\n",
    "        return best, best_mayfly, mayflies\n",
    "    \n",
    "    def run_svm_fit(self, svm_model, X, Y, parameters, max_evals, kernel='rbf', random_state=None):\n",
    "        np.random.seed(random_state)\n",
    "        if kernel == 'linear':\n",
    "            svm_model = LinearSVC\n",
    "        mayflies_c = np.random.uniform(parameters['c_min'], parameters['c_max'], self.pop_size)\n",
    "        mayflies_gamma = np.random.uniform(parameters['gamma_min'], parameters['gamma_max'], self.pop_size)\n",
    "\n",
    "        x_train, x_test, y_train, y_test = train_test_split(X, Y)\n",
    "        \n",
    "        intensity = []\n",
    "        print(\"Training numbers of SVM models ...\")\n",
    "        \n",
    "        print(\"Generating intensity (Trains SVM Model)\")\n",
    "        for i in tqdm(range(self.pop_size)):\n",
    "            if kernel == 'linear':\n",
    "                intensity.append(svm_model(C=mayflies_c[i], random_state=random_state))\n",
    "            else:\n",
    "                intensity.append(svm_model(C=mayflies_c[i], kernel=kernel, gamma=mayflies_gamma[i], random_state=random_state))\n",
    "            intensity[i].fit(x_train, y_train)\n",
    "        best_score = []\n",
    "\n",
    "        for y in range(len(intensity)):\n",
    "            best_score.append(intensity[y].score(x_test, y_test))\n",
    "        best = intensity[best_score.index(max(best_score))]\n",
    "        best_curr_score = best_score[best_score.index(max(best_score))]\n",
    "        print(\"Current best score :\", best_curr_score)\n",
    "        \n",
    "        evaluations = self.pop_size\n",
    "        new_alpha = self.alpha\n",
    "        search_c = parameters['c_max'] - parameters['c_min']\n",
    "        search_gamma = parameters['gamma_max'] - parameters['gamma_min']\n",
    "        \n",
    "        print(\"Searching..\")\n",
    "        while evaluations <= max_evals:\n",
    "            new_alpha *= 0.97\n",
    "            for i in tqdm(range(self.pop_size)):\n",
    "                r_c = np.square(mayflies_c[i] - mayflies_c[self.rng.integers(self.pop_size)])\n",
    "                steps_c = new_alpha * (self.rng.random() - 0.5) * search_c\n",
    "                mayflies_c[i] += self.beta * (self.rng.random() - 0.5) * search_c + steps_c\n",
    "                mayflies_c[i] = np.clip(mayflies_c[i], parameters['c_min'], parameters['c_max'])\n",
    "\n",
    "                r_gamma = np.square(mayflies_gamma[i] - mayflies_gamma[self.rng.integers(self.pop_size)])\n",
    "                steps_gamma = new_alpha * (self.rng.random() - 0.5) * search_gamma\n",
    "                mayflies_gamma[i] += self.beta * (self.rng.random() - 0.5) * search_gamma + steps_gamma\n",
    "                mayflies_gamma[i] = np.clip(mayflies_gamma[i], parameters['gamma_min'], parameters['gamma_max'])\n",
    "\n",
    "                if kernel == 'linear':\n",
    "                    intensity[i] = svm_model(C=mayflies_c[i], random_state=random_state)\n",
    "                else:\n",
    "                    intensity[i] = svm_model(C=mayflies_c[i], kernel=kernel, gamma=mayflies_gamma[i], random_state=random_state)\n",
    "                intensity[i].fit(x_train, y_train)\n",
    "                \n",
    "                evaluations += 1\n",
    "                \n",
    "                this_score = intensity[i].score(x_test, y_test)\n",
    "                best_curr_score = max(this_score, best_curr_score)\n",
    "                if best_curr_score == this_score:\n",
    "                    best = intensity[i]\n",
    "        print(\"Best model : \", best)\n",
    "        print(\"Score (Accuracy) : \", best_curr_score)\n",
    "        return best\n"
   ]
  },
  {
   "cell_type": "code",
   "execution_count": 12,
   "id": "99d37097",
   "metadata": {},
   "outputs": [],
   "source": [
    "from sklearn.svm import SVC\n",
    "from sklearn.metrics import confusion_matrix, accuracy_score, recall_score, roc_curve, auc, classification_report\n",
    "acc = [] # list to store all performance me"
   ]
  },
  {
   "cell_type": "code",
   "execution_count": 13,
   "id": "7511dda3",
   "metadata": {},
   "outputs": [
    {
     "name": "stdout",
     "output_type": "stream",
     "text": [
      "Training numbers of SVM models ...\n",
      "Generating intensity (Trains SVM Model)\n"
     ]
    },
    {
     "name": "stderr",
     "output_type": "stream",
     "text": [
      "100%|██████████| 75/75 [00:01<00:00, 42.34it/s]\n"
     ]
    },
    {
     "name": "stdout",
     "output_type": "stream",
     "text": [
      "Current best score : 0.84\n",
      "Searching..\n"
     ]
    },
    {
     "name": "stderr",
     "output_type": "stream",
     "text": [
      "100%|██████████| 75/75 [00:02<00:00, 30.19it/s]\n",
      "100%|██████████| 75/75 [00:02<00:00, 30.90it/s]\n",
      "100%|██████████| 75/75 [00:02<00:00, 30.39it/s]\n",
      "100%|██████████| 75/75 [00:02<00:00, 31.06it/s]\n",
      "100%|██████████| 75/75 [00:02<00:00, 31.65it/s]\n",
      "100%|██████████| 75/75 [00:02<00:00, 32.21it/s]\n",
      "100%|██████████| 75/75 [00:02<00:00, 32.17it/s]\n",
      "100%|██████████| 75/75 [00:02<00:00, 32.64it/s]\n",
      "100%|██████████| 75/75 [00:02<00:00, 33.85it/s]\n",
      "100%|██████████| 75/75 [00:02<00:00, 32.47it/s]\n",
      "100%|██████████| 75/75 [00:02<00:00, 32.95it/s]\n",
      "100%|██████████| 75/75 [00:02<00:00, 32.77it/s]\n",
      "100%|██████████| 75/75 [00:02<00:00, 31.94it/s]"
     ]
    },
    {
     "name": "stdout",
     "output_type": "stream",
     "text": [
      "Best model :  SVC(C=42.530881484492404, gamma=0.01180480689305009)\n",
      "Score (Accuracy) :  0.84\n",
      "\n",
      "Best C: 42.530881484492404 \n",
      "Best Gamma: 0.01180480689305009 \n",
      "\n",
      "confusion matrix\n",
      "[[30  2]\n",
      " [15 28]]\n",
      "\n",
      "\n",
      "classification report\n",
      "              precision    recall  f1-score   support\n",
      "\n",
      "           0       0.67      0.94      0.78        32\n",
      "           1       0.93      0.65      0.77        43\n",
      "\n",
      "    accuracy                           0.77        75\n",
      "   macro avg       0.80      0.79      0.77        75\n",
      "weighted avg       0.82      0.77      0.77        75\n",
      "\n",
      "Training set score for MA-SVM: 0.959732\n",
      "Testing  set score for MA-SVM: 0.773333\n",
      "\n",
      "\n",
      "------------------------------------------------------------------------------------------\n",
      "Wall time: 33.5 s\n"
     ]
    },
    {
     "name": "stderr",
     "output_type": "stream",
     "text": [
      "\n"
     ]
    }
   ],
   "source": [
    "%%time\n",
    "def warn(*args, **kwargs):\n",
    "    pass\n",
    "import warnings\n",
    "warnings.warn = warn\n",
    "\n",
    "MA = MayflyAlgorithm()\n",
    "\n",
    "\n",
    "# Split data into train and test sets\n",
    "X_train, X_test, y_train, y_test = train_test_split(X, y, test_size=0.2, random_state=42)\n",
    "\n",
    "\n",
    "params = {'c_min':1, 'c_max':100, 'gamma_min':0.0001, 'gamma_max':1}\n",
    "\n",
    "MA = MayflyAlgorithm(pop_size=75, seed=42)\n",
    "ma_model = MA.run_svm_fit(SVC, X_train, y_train, params, max_evals=1000)\n",
    "Y_pred = ma_model.predict(X_test)\n",
    "\n",
    "print('\\nBest C:',ma_model.C,\"\")\n",
    "print('Best Gamma:',ma_model.gamma,\"\\n\")\n",
    "\n",
    "print(\"confusion matrix\")\n",
    "print(confusion_matrix(y_test, Y_pred))\n",
    "print('\\n')\n",
    "print(\"classification report\")\n",
    "print(classification_report(y_test, Y_pred))\n",
    "\n",
    "print(\"Training set score for MA-SVM: %f\" % ma_model.score(X_train , y_train))\n",
    "print(\"Testing  set score for MA-SVM: %f\" % ma_model.score(X_test  , y_test ))\n",
    "print('\\n')\n",
    "print(\"------------------------------------------------------------------------------------------\")"
   ]
  },
  {
   "cell_type": "code",
   "execution_count": null,
   "id": "535555c2",
   "metadata": {},
   "outputs": [
    {
     "name": "stdout",
     "output_type": "stream",
     "text": [
      " * Serving Flask app \"__main__\" (lazy loading)\n",
      " * Environment: production\n",
      "\u001b[31m   WARNING: This is a development server. Do not use it in a production deployment.\u001b[0m\n",
      "\u001b[2m   Use a production WSGI server instead.\u001b[0m\n",
      " * Debug mode: off\n"
     ]
    },
    {
     "name": "stderr",
     "output_type": "stream",
     "text": [
      " * Running on http://127.0.0.1:5000/ (Press CTRL+C to quit)\n",
      "127.0.0.1 - - [24/Mar/2024 10:56:17] \"GET / HTTP/1.1\" 200 -\n",
      "127.0.0.1 - - [24/Mar/2024 10:56:17] \"GET /favicon.ico HTTP/1.1\" 404 -\n",
      "C:\\Users\\User\\anaconda3\\lib\\site-packages\\sklearn\\base.py:450: UserWarning: X does not have valid feature names, but SVC was fitted with feature names\n",
      "  warnings.warn(\n",
      "127.0.0.1 - - [24/Mar/2024 10:56:21] \"POST /predict HTTP/1.1\" 200 -\n",
      "C:\\Users\\User\\anaconda3\\lib\\site-packages\\sklearn\\base.py:450: UserWarning: X does not have valid feature names, but SVC was fitted with feature names\n",
      "  warnings.warn(\n",
      "127.0.0.1 - - [24/Mar/2024 10:58:49] \"POST /predict HTTP/1.1\" 200 -\n",
      "C:\\Users\\User\\anaconda3\\lib\\site-packages\\sklearn\\base.py:450: UserWarning: X does not have valid feature names, but SVC was fitted with feature names\n",
      "  warnings.warn(\n",
      "127.0.0.1 - - [24/Mar/2024 10:59:04] \"POST /predict HTTP/1.1\" 200 -\n",
      "127.0.0.1 - - [24/Mar/2024 10:59:11] \"GET / HTTP/1.1\" 200 -\n",
      "C:\\Users\\User\\anaconda3\\lib\\site-packages\\sklearn\\base.py:450: UserWarning: X does not have valid feature names, but SVC was fitted with feature names\n",
      "  warnings.warn(\n",
      "127.0.0.1 - - [24/Mar/2024 10:59:22] \"POST /predict HTTP/1.1\" 200 -\n",
      "127.0.0.1 - - [24/Mar/2024 11:05:23] \"GET / HTTP/1.1\" 200 -\n",
      "C:\\Users\\User\\anaconda3\\lib\\site-packages\\sklearn\\base.py:450: UserWarning: X does not have valid feature names, but SVC was fitted with feature names\n",
      "  warnings.warn(\n",
      "127.0.0.1 - - [24/Mar/2024 11:05:28] \"POST /predict HTTP/1.1\" 200 -\n"
     ]
    }
   ],
   "source": [
    "from flask import Flask, request, jsonify, render_template\n",
    "import numpy as np\n",
    "\n",
    "app = Flask(__name__)\n",
    "\n",
    "@app.route('/')\n",
    "    \n",
    "def home():\n",
    "    return render_template('index.html')\n",
    "\n",
    "@app.route('/predict', methods=['POST'])\n",
    "def predict():\n",
    "    try:\n",
    "        # Get input features from the request\n",
    "        features = [float(X) for X in request.form.values()]\n",
    "        input_data = np.array(features).reshape(1, -1)\n",
    "        \n",
    "        \n",
    "        # Make predictions using the trained model\n",
    "        prediction = ma_model.predict(input_data)[0]\n",
    "        \n",
    "        \n",
    "        if prediction == 0:\n",
    "            return render_template('index.html', prediction_text= 'non-demented')\n",
    "        else:\n",
    "            return render_template('index.html', prediction_text= 'Demented')   \n",
    "    \n",
    "    except Exception as e:\n",
    "        return render_template('index.html', prediction_text='Error occurred during prediction.')\n",
    "\n",
    "if __name__ == '__main__':\n",
    "    app.run(port=5000)"
   ]
  },
  {
   "cell_type": "code",
   "execution_count": null,
   "id": "331b9dcb",
   "metadata": {},
   "outputs": [],
   "source": []
  }
 ],
 "metadata": {
  "kernelspec": {
   "display_name": "Python 3 (ipykernel)",
   "language": "python",
   "name": "python3"
  },
  "language_info": {
   "codemirror_mode": {
    "name": "ipython",
    "version": 3
   },
   "file_extension": ".py",
   "mimetype": "text/x-python",
   "name": "python",
   "nbconvert_exporter": "python",
   "pygments_lexer": "ipython3",
   "version": "3.9.7"
  }
 },
 "nbformat": 4,
 "nbformat_minor": 5
}
